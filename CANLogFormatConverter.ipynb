{
 "cells": [
  {
   "cell_type": "code",
   "execution_count": 22,
   "metadata": {},
   "outputs": [
    {
     "name": "stdout",
     "output_type": "stream",
     "text": [
      "Not CAN2 Format\n",
      "54512128: b'\\xff\\xff\\xff\\xff\\x003\\xc9\\xc9b4\\xa6L:\\x03\\xfe\\xff\\x0c\\xf4\\xab\\t\\x08\\x8e}\\x8fA\\x00\\x00\\x7f\\xe1\\x003\\xc9\\xc9bX\\xa7L:\"\\xfb\\xff\\x0c\\xf9\\xac\\t\\x08\\x00f\\xff\\xff\\xff\\xff\\xff\\xff\\x003\\xc9\\xc9bx\\xa8L:\\x95G\\xfe\\x186\\xae\\t\\x08\\x7f\\xff\\xff\\xff\\xff\\xff\\xff\\xff\\x003\\xc9\\xc9b\\x9e\\xa9L:\"\\xfa\\xff\\x0c>\\xaf\\t\\x08\\x011\\xff\\xff\\xff\\xff\\xff\\xff\\x003\\xc9\\xc9b\\xbe\\xaaL:G\\xf3\\xff\\x18{\\xb0\\t\\x08\"\\xff\\xfc\\xff\\xff\\xff\\xff\\xff\\x003\\xc9\\xc9b\\xdc\\xabL:\"\\xfb\\xff\\x0c|\\xb1\\t\\x08\\x00j\\xa6\\x0e\\xff\\xff\\xff\\xff\\x003\\xc9\\xc9bn\\xb7L:\\x00\\x04\\xf0\\x0c+\\xbd\\t\\x08\\xfe\\xff}\\x00\\x00\\xff\\xf4\\xff\\x003\\xc9\\xc9b\\x91\\xb8L:\\x05\\xff\\xef\\x08/\\xbe\\t\\x08n\\xff\\xff\\x00\\xff\\xff\\xff\\xff\\x013\\xc9\\xc9b\\x7f\\xb9L:\\xf0\\x12\\xfe\\x0c>\\xbf\\t\\x08}}\\xf0?\\xff\\xff\\xff\\xff\\x003\\xc9\\xc9b\\xb3\\xb9L:\\x00\\x92\\xfd\\x0cQ\\xbf\\t\\x08\\xf0\\xff\\xff\\xff\\xff\\xff\\xff\\xff\\x003\\xc9\\xc9b\\xcb\\xbaL:\\x05\\xfe\\xff\\x08\\x87\\xc0\\t\\x08\\x8b\\x86\\xff\\xf1\\xb0\\x04H=\\xff\\xff\\xff\\xff\\xff\\xff\\xff\\xff\\xff\\xff\\xff\\xff\\xff\\xff\\xff\\xff\\xff\\xff\\xff\\xff\\xff\\xff\\xff\\xff\\xff\\xff\\xff\\xff\\xff\\xff\\xff\\xff\\xff\\xff\\xff\\xff\\xff\\xff\\xff\\xff\\xff\\xff\\xff\\xff\\xff\\xff\\xff\\xff\\xff\\xff\\xff\\xff\\xff\\xff\\xff\\xff\\xff\\xff\\xff\\xff\\xff\\xff\\xff\\xff\\xff\\xff\\xff\\xff\\xff\\xff\\xff\\xff\\xff\\xff\\xff\\xff\\xff\\xff\\xff\\xff\\xff\\xff\\xff\\xff\\xff\\xff\\xff\\xff\\xff\\xff\\xff\\xff\\xff\\xff\\xff\\xff\\xff\\xff\\xff\\xff\\xff\\xff\\xff\\xff\\xff\\xff\\xff\\xff\\xff\\xff\\xff\\xff\\xff\\xff\\xff\\xff\\xff\\xff\\xff\\xff\\xff\\xff\\xff\\xff\\xff\\xff\\xff\\xff\\xff\\xff\\xff\\xff\\xff\\xff\\xff\\xff\\xff\\xff\\xff\\xff\\xff\\xff\\xff\\xff\\xff\\xff\\xff\\xff\\xff\\xff\\xff\\xff\\xff\\xff\\xff\\xff\\xff\\xff\\xff\\xff\\xff\\xff\\xff\\xff\\xff\\xff\\xff\\xff\\xff\\xff\\xff\\xff\\xff\\xff\\xff\\xff\\xff\\xff\\xff\\xff\\xff\\xff\\xff\\xff\\xff\\xff\\xff\\xff\\xff\\xff\\xff\\xff\\xff\\xff\\xff\\xff\\xff\\xff\\xff\\xff\\xff\\xff\\xff\\xff\\xff\\xff\\xff\\xff\\xff\\xff\\xff\\xff\\xff\\xff\\xff\\xff\\xff\\xff\\xff\\xff\\xff\\xff\\xff\\xff\\xff\\xff{\\x00\\x00'\n",
      "Finished G:/CSU3601C.bin of 54512640 bytes\n"
     ]
    }
   ],
   "source": [
    "import struct\n",
    "from datetime import datetime\n",
    "import binascii\n",
    "\n",
    "filename=\"G:/CSU3601C.bin\"\n",
    "with open(filename,'rb') as f:\n",
    "    decrypted_log = f.read()\n",
    "filesize=len(decrypted_log)\n",
    "\n",
    "candump_list = []\n",
    "message_list = []\n",
    "\n",
    "for block_start in range(0,filesize,512):\n",
    "    block = decrypted_log[block_start:block_start+508]\n",
    "    recorded_block_crc = struct.unpack('<L',decrypted_log[block_start+508:block_start+512])[0]\n",
    "    computed_block_crc = binascii.crc32(block)\n",
    "    if recorded_block_crc != computed_block_crc:\n",
    "        print(\"CRC didn't match\")\n",
    "        continue\n",
    "    if block[0:4]!=b'CAN2':\n",
    "        print(\"Not CAN2 Format\")\n",
    "        print(f\"{block_start}: {block}\")\n",
    "        continue\n",
    "    #Add some meta data parsers here\n",
    "    \n",
    "    for recordNum in range(19): #Parse through CAN message\n",
    "        record = block[4+recordNum*25:4+(recordNum+1)*25]\n",
    "        channel = record[0]\n",
    "        timeSeconds = struct.unpack(\"<L\",record[1:5])[0]\n",
    "        timeMicrosecondsAndDLC = struct.unpack(\"<L\",record[13:17])[0]\n",
    "        timeMicroseconds = timeMicrosecondsAndDLC & 0x00FFFFFF\n",
    "        DLC = (timeMicrosecondsAndDLC & 0xFF000000)>>24\n",
    "        abs_time = timeSeconds + timeMicroseconds * 0.000001\n",
    "        time_str = datetime.fromtimestamp(abs_time, tz=None).isoformat()\n",
    "        ID = struct.unpack(\"<L\",record[9:13])[0]\n",
    "        message_bytes = record[17:25]\n",
    "        #create list for all data parsed\n",
    "        candump_list.append(\"({:0.6f}) can{:0.0f} {:08X}#{}\"\n",
    "                            .format(abs_time,channel,ID,''.join([\"{:02X}\"\n",
    "                                .format(b) for b in message_bytes])))\n",
    "        message_list.append([\"{:0.6f}\".format(abs_time),\"can{:0.0f}\".format(channel),\"{:08X}\"\n",
    "                            .format(ID),]+[\"{:02X}\"\n",
    "                                .format(b) for b in message_bytes])\n",
    "\n",
    "with open(filename+\"_candump.log\", 'w') as f:\n",
    "    for line in candump_list:\n",
    "        f.write(line+'\\n')\n",
    "\n",
    "with open(filename+\".csv\", 'w') as f:\n",
    "    for line in message_list:\n",
    "        f.write(','.join(line)+'\\n')\n",
    "print(f\"Finished {filename} of {filesize} bytes\")"
   ]
  }
 ],
 "metadata": {
  "kernelspec": {
   "display_name": "Python 3",
   "language": "python",
   "name": "python3"
  },
  "language_info": {
   "codemirror_mode": {
    "name": "ipython",
    "version": 3
   },
   "file_extension": ".py",
   "mimetype": "text/x-python",
   "name": "python",
   "nbconvert_exporter": "python",
   "pygments_lexer": "ipython3",
   "version": "3.7.4"
  }
 },
 "nbformat": 4,
 "nbformat_minor": 2
}
